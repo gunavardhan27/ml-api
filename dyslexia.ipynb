{
 "cells": [
  {
   "cell_type": "code",
   "execution_count": 58,
   "id": "30d10f3b",
   "metadata": {},
   "outputs": [],
   "source": [
    "import numpy as np\n",
    "import pandas as pd\n",
    "from sklearn.preprocessing import MinMaxScaler\n",
    "from sklearn.model_selection import KFold\n",
    "from sklearn.ensemble import RandomForestClassifier\n",
    "from sklearn import metrics\n",
    "import matplotlib.pyplot as plt\n",
    "import seaborn as sns\n",
    "from sklearn.neighbors import KNeighborsClassifier\n",
    "from sklearn.svm import SVC\n",
    "from sklearn.model_selection import GridSearchCV\n",
    "from imblearn.over_sampling import ADASYN, SMOTE"
   ]
  },
  {
   "cell_type": "code",
   "execution_count": 59,
   "id": "cd8fd9ac",
   "metadata": {},
   "outputs": [
    {
     "name": "stdout",
     "output_type": "stream",
     "text": [
      "Dyslexia\n",
      "No     3252\n",
      "Yes     392\n",
      "Name: count, dtype: int64\n",
      "   Gender  Nativelang  Otherlang  Age  Clicks1  Hits1  Misses1  Score1  \\\n",
      "0       1           0          1    7       10     10        0      10   \n",
      "1       0           1          1   13       12     12        0      12   \n",
      "\n",
      "   Accuracy1  Missrate1  ...  Misses31  Score31  Accuracy31  Missrate31  \\\n",
      "0        1.0        0.0  ...         0        0    0.000000         0.0   \n",
      "1        1.0        0.0  ...         0        4    0.114286         0.0   \n",
      "\n",
      "   Clicks32  Hits32  Misses32  Score32  Accuracy32  Missrate32  \n",
      "0        17       2         0        2    0.117647    0.000000  \n",
      "1        26       2         2        2    0.076923    0.076923  \n",
      "\n",
      "[2 rows x 196 columns]\n",
      "0    0\n",
      "1    1\n",
      "2    0\n",
      "Name: Dyslexia, dtype: int32\n"
     ]
    }
   ],
   "source": [
    "features = pd.read_csv('./Dyt-desktop.csv', delimiter=';').columns.values[:-1]\n",
    "\n",
    "import pandas as pd\n",
    "from sklearn.model_selection import train_test_split\n",
    "from sklearn.preprocessing import LabelEncoder, StandardScaler\n",
    "\n",
    "# Load the dataset\n",
    "data = pd.read_csv(\"./Dyt-desktop.csv\", delimiter=';')  # adjust path\n",
    "print(data['Dyslexia'].value_counts())\n",
    "\n",
    "\n",
    "\n",
    "# Encode categorical columns using LabelEncoder (converts to 0/1 if binary)\n",
    "label_cols = ['Gender']\n",
    "le = LabelEncoder()\n",
    "\n",
    "for col in label_cols:\n",
    "    data[col] = le.fit_transform(data[col])\n",
    "    \n",
    "data['Nativelang'] = data['Nativelang'].map({'Yes': 1, 'No': 0})\n",
    "data['Otherlang'] = data['Otherlang'].map({'Yes': 1, 'No': 0})\n",
    "\n",
    "\n",
    "if data['Dyslexia'].dtype == object:\n",
    "    data['Dyslexia'] = le.fit_transform(data['Dyslexia'])\n",
    "\n",
    "y=data['Dyslexia']\n",
    "X=data.drop(columns=['Dyslexia'])\n",
    "# Standardize numerical columns\n",
    "exclude_cols = [col for col in X.columns if col.startswith('Accuracy')]\n",
    "cols_to_scale = [col for col in X.columns if col not in exclude_cols]\n",
    "#scaler = MinMaxScaler(feature_range=(0,1))\n",
    "scaler = StandardScaler()\n",
    "#X[cols_to_scale] = scaler.fit_transform(X[cols_to_scale])\n",
    "# (Optional) convert 'Dyslexia' column to 0/1 if not already\n",
    "\n",
    "\n",
    "# ✅ Final dataset ready for model\n",
    "#print(data.head())\n",
    "\n",
    "print(X.head(2))\n",
    "print(y.head(3))"
   ]
  },
  {
   "cell_type": "code",
   "execution_count": 60,
   "id": "e8d1d076",
   "metadata": {},
   "outputs": [],
   "source": [
    "from sklearn.model_selection import train_test_split\n",
    "X_train, X_test, y_train, y_test = train_test_split(X, y, test_size=0.20,stratify=y,random_state=42)"
   ]
  },
  {
   "cell_type": "code",
   "execution_count": 61,
   "id": "388853e8",
   "metadata": {},
   "outputs": [],
   "source": [
    "# scaler.fit(X_train[cols_to_scale])\n",
    "# X_train[cols_to_scale] = scaler.transform(X_train[cols_to_scale])\n",
    "# X_test[cols_to_scale] = scaler.transform(X_test[cols_to_scale])"
   ]
  },
  {
   "cell_type": "code",
   "execution_count": 62,
   "id": "4f89b3e9",
   "metadata": {},
   "outputs": [],
   "source": [
    "# from imblearn.over_sampling import BorderlineSMOTE\n",
    "\n",
    "# sm = BorderlineSMOTE()  # or ADASYN()\n",
    "# X_resampled, y_resampled = sm.fit_resample(X_train, y_train)\n",
    "\n",
    "from imblearn.over_sampling import ADASYN\n",
    "\n",
    "ada = ADASYN(random_state=42)\n",
    "X_train_resampled, y_train_resampled = ada.fit_resample(X_train, y_train)"
   ]
  },
  {
   "cell_type": "code",
   "execution_count": 67,
   "id": "aeeea1ed",
   "metadata": {},
   "outputs": [
    {
     "name": "stdout",
     "output_type": "stream",
     "text": [
      "Overall Accuracy: 0.9641975308641976\n",
      "              precision    recall  f1-score   support\n",
      "\n",
      "           0       0.99      0.97      0.98      6510\n",
      "           1       0.77      0.96      0.85       780\n",
      "\n",
      "    accuracy                           0.96      7290\n",
      "   macro avg       0.88      0.96      0.92      7290\n",
      "weighted avg       0.97      0.96      0.97      7290\n",
      "\n"
     ]
    }
   ],
   "source": [
    "from catboost import CatBoostClassifier\n",
    "from sklearn.metrics import accuracy_score, classification_report\n",
    "from sklearn.model_selection import StratifiedKFold\n",
    "\n",
    "\n",
    "skf = StratifiedKFold(n_splits=10, shuffle=True, random_state=42)\n",
    "\n",
    "all_y_test = []\n",
    "all_y_pred = []\n",
    "\n",
    "for fold, (train_idx, val_idx) in enumerate(skf.split(X, y), 1):\n",
    "    X_train, X_val = X.iloc[train_idx], X.iloc[val_idx]\n",
    "    y_train, y_val = y.iloc[train_idx], y.iloc[val_idx]\n",
    "    model = CatBoostClassifier(\n",
    "    iterations=1500,  # Number of trees\n",
    "    depth=6,  # Tree depth\n",
    "    learning_rate=0.03,  # Controls step size\n",
    "    loss_function='Logloss',  # For binary classification\n",
    "    eval_metric='F1',\n",
    "    verbose=0,\n",
    "    class_weights = {0: 1.0, 1:8.0 }\n",
    "    #3252 / 392\n",
    "    )\n",
    "    model.fit(X_train, y_train, eval_set=(X_test, y_test), early_stopping_rounds=50)\n",
    "\n",
    "    y_pred = model.predict_proba(X_test)[:,1]\n",
    "    threshold = 0.5\n",
    "    y_pred_threshold = (y_pred >= threshold).astype(int)\n",
    "    all_y_test.extend(y_test)\n",
    "    all_y_pred.extend(y_pred_threshold)\n",
    "    \n",
    "print(\"Overall Accuracy:\", accuracy_score(all_y_test, all_y_pred))\n",
    "print(classification_report(all_y_test, all_y_pred))"
   ]
  },
  {
   "cell_type": "code",
   "execution_count": 63,
   "id": "66360ff5",
   "metadata": {},
   "outputs": [
    {
     "name": "stdout",
     "output_type": "stream",
     "text": [
      "Overall Accuracy: 0.821673525377229\n",
      "              precision    recall  f1-score   support\n",
      "\n",
      "           0       0.97      0.83      0.89       651\n",
      "           1       0.35      0.76      0.48        78\n",
      "\n",
      "    accuracy                           0.82       729\n",
      "   macro avg       0.66      0.79      0.68       729\n",
      "weighted avg       0.90      0.82      0.85       729\n",
      "\n"
     ]
    }
   ],
   "source": [
    "from catboost import CatBoostClassifier\n",
    "from sklearn.metrics import accuracy_score\n",
    "from sklearn.metrics import classification_report\n",
    "\n",
    "\n",
    "model = CatBoostClassifier(\n",
    "    iterations=1500,  # Number of trees\n",
    "    depth=6,  # Tree depth\n",
    "    learning_rate=0.03,  # Controls step size\n",
    "    loss_function='Logloss',  # For binary classification\n",
    "    eval_metric='F1',\n",
    "    verbose=0,\n",
    "    class_weights = {0: 1.0, 1:8.0 }\n",
    "    #3252 / 392\n",
    ")\n",
    "\n",
    "model.fit(X_train, y_train, eval_set=(X_test, y_test), early_stopping_rounds=50)\n",
    "\n",
    "y_pred = model.predict_proba(X_test)[:,1]\n",
    "threshold = 0.5\n",
    "y_pred_threshold = (y_pred >= threshold).astype(int)\n",
    "\n",
    "print(\"Overall Accuracy:\", accuracy_score(y_test, y_pred_threshold))\n",
    "print(classification_report(y_test, y_pred_threshold))"
   ]
  },
  {
   "cell_type": "code",
   "execution_count": 57,
   "id": "1db1812c",
   "metadata": {},
   "outputs": [
    {
     "name": "stdout",
     "output_type": "stream",
     "text": [
      "Overall Accuracy: 0.823045267489712\n",
      "              precision    recall  f1-score   support\n",
      "\n",
      "           0       0.97      0.83      0.89       651\n",
      "           1       0.35      0.76      0.48        78\n",
      "\n",
      "    accuracy                           0.82       729\n",
      "   macro avg       0.66      0.79      0.69       729\n",
      "weighted avg       0.90      0.82      0.85       729\n",
      "\n"
     ]
    }
   ],
   "source": [
    "from imblearn.ensemble import EasyEnsembleClassifier\n",
    "\n",
    "model = EasyEnsembleClassifier(\n",
    "        n_estimators=100,  # You can increase this for better performance\n",
    "        random_state=42\n",
    "    )\n",
    "model.fit(X_train, y_train)\n",
    "\n",
    "y_pred = model.predict_proba(X_test)[:,1]\n",
    "threshold = 0.5\n",
    "y_pred_threshold = (y_pred >= threshold).astype(int)\n",
    "\n",
    "print(\"Overall Accuracy:\", accuracy_score(y_test, y_pred_threshold))\n",
    "print(classification_report(y_test, y_pred_threshold))"
   ]
  }
 ],
 "metadata": {
  "kernelspec": {
   "display_name": "Python 3",
   "language": "python",
   "name": "python3"
  },
  "language_info": {
   "codemirror_mode": {
    "name": "ipython",
    "version": 3
   },
   "file_extension": ".py",
   "mimetype": "text/x-python",
   "name": "python",
   "nbconvert_exporter": "python",
   "pygments_lexer": "ipython3",
   "version": "3.12.4"
  }
 },
 "nbformat": 4,
 "nbformat_minor": 5
}
