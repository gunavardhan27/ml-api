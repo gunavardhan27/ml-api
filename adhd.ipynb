{
  "cells": [
    {
      "cell_type": "code",
      "execution_count": 1,
      "metadata": {
        "colab": {
          "base_uri": "https://localhost:8080/"
        },
        "collapsed": true,
        "id": "wPuBD8OibG35",
        "outputId": "eef6f3e9-572e-4b15-c02e-ed69fc191c17"
      },
      "outputs": [
        {
          "name": "stderr",
          "output_type": "stream",
          "text": [
            "WARNING: Ignoring invalid distribution ~ensorboard (C:\\Users\\HP\\AppData\\Local\\Programs\\Python\\Python312\\Lib\\site-packages)\n",
            "WARNING: Ignoring invalid distribution ~ensorflow-intel (C:\\Users\\HP\\AppData\\Local\\Programs\\Python\\Python312\\Lib\\site-packages)\n",
            "WARNING: Ignoring invalid distribution ~ensorboard (C:\\Users\\HP\\AppData\\Local\\Programs\\Python\\Python312\\Lib\\site-packages)\n",
            "WARNING: Ignoring invalid distribution ~ensorflow-intel (C:\\Users\\HP\\AppData\\Local\\Programs\\Python\\Python312\\Lib\\site-packages)\n",
            "WARNING: Ignoring invalid distribution ~ensorboard (C:\\Users\\HP\\AppData\\Local\\Programs\\Python\\Python312\\Lib\\site-packages)\n",
            "WARNING: Ignoring invalid distribution ~ensorflow-intel (C:\\Users\\HP\\AppData\\Local\\Programs\\Python\\Python312\\Lib\\site-packages)\n",
            "\n",
            "[notice] A new release of pip is available: 25.0 -> 25.0.1\n",
            "[notice] To update, run: python.exe -m pip install --upgrade pip\n"
          ]
        },
        {
          "name": "stdout",
          "output_type": "stream",
          "text": [
            "Requirement already satisfied: gradio in c:\\users\\hp\\appdata\\local\\programs\\python\\python312\\lib\\site-packages (5.16.1)\n",
            "Requirement already satisfied: aiofiles<24.0,>=22.0 in c:\\users\\hp\\appdata\\local\\programs\\python\\python312\\lib\\site-packages (from gradio) (23.2.1)\n",
            "Requirement already satisfied: anyio<5.0,>=3.0 in c:\\users\\hp\\appdata\\local\\programs\\python\\python312\\lib\\site-packages (from gradio) (4.8.0)\n",
            "Requirement already satisfied: fastapi<1.0,>=0.115.2 in c:\\users\\hp\\appdata\\local\\programs\\python\\python312\\lib\\site-packages (from gradio) (0.115.8)\n",
            "Requirement already satisfied: ffmpy in c:\\users\\hp\\appdata\\local\\programs\\python\\python312\\lib\\site-packages (from gradio) (0.5.0)\n",
            "Requirement already satisfied: gradio-client==1.7.0 in c:\\users\\hp\\appdata\\local\\programs\\python\\python312\\lib\\site-packages (from gradio) (1.7.0)\n",
            "Requirement already satisfied: httpx>=0.24.1 in c:\\users\\hp\\appdata\\local\\programs\\python\\python312\\lib\\site-packages (from gradio) (0.28.1)\n",
            "Requirement already satisfied: huggingface-hub>=0.28.1 in c:\\users\\hp\\appdata\\local\\programs\\python\\python312\\lib\\site-packages (from gradio) (0.29.0)\n",
            "Requirement already satisfied: jinja2<4.0 in c:\\users\\hp\\appdata\\local\\programs\\python\\python312\\lib\\site-packages (from gradio) (3.1.5)\n",
            "Requirement already satisfied: markupsafe~=2.0 in c:\\users\\hp\\appdata\\local\\programs\\python\\python312\\lib\\site-packages (from gradio) (2.1.5)\n",
            "Requirement already satisfied: numpy<3.0,>=1.0 in c:\\users\\hp\\appdata\\local\\programs\\python\\python312\\lib\\site-packages (from gradio) (1.26.4)\n",
            "Requirement already satisfied: orjson~=3.0 in c:\\users\\hp\\appdata\\local\\programs\\python\\python312\\lib\\site-packages (from gradio) (3.10.15)\n",
            "Requirement already satisfied: packaging in c:\\users\\hp\\appdata\\local\\programs\\python\\python312\\lib\\site-packages (from gradio) (24.1)\n",
            "Requirement already satisfied: pandas<3.0,>=1.0 in c:\\users\\hp\\appdata\\local\\programs\\python\\python312\\lib\\site-packages (from gradio) (2.2.3)\n",
            "Requirement already satisfied: pillow<12.0,>=8.0 in c:\\users\\hp\\appdata\\local\\programs\\python\\python312\\lib\\site-packages (from gradio) (10.4.0)\n",
            "Requirement already satisfied: pydantic>=2.0 in c:\\users\\hp\\appdata\\local\\programs\\python\\python312\\lib\\site-packages (from gradio) (2.10.6)\n",
            "Requirement already satisfied: pydub in c:\\users\\hp\\appdata\\local\\programs\\python\\python312\\lib\\site-packages (from gradio) (0.25.1)\n",
            "Requirement already satisfied: python-multipart>=0.0.18 in c:\\users\\hp\\appdata\\local\\programs\\python\\python312\\lib\\site-packages (from gradio) (0.0.20)\n",
            "Requirement already satisfied: pyyaml<7.0,>=5.0 in c:\\users\\hp\\appdata\\local\\programs\\python\\python312\\lib\\site-packages (from gradio) (6.0.2)\n",
            "Requirement already satisfied: ruff>=0.9.3 in c:\\users\\hp\\appdata\\local\\programs\\python\\python312\\lib\\site-packages (from gradio) (0.9.6)\n",
            "Requirement already satisfied: safehttpx<0.2.0,>=0.1.6 in c:\\users\\hp\\appdata\\local\\programs\\python\\python312\\lib\\site-packages (from gradio) (0.1.6)\n",
            "Requirement already satisfied: semantic-version~=2.0 in c:\\users\\hp\\appdata\\local\\programs\\python\\python312\\lib\\site-packages (from gradio) (2.10.0)\n",
            "Requirement already satisfied: starlette<1.0,>=0.40.0 in c:\\users\\hp\\appdata\\local\\programs\\python\\python312\\lib\\site-packages (from gradio) (0.45.3)\n",
            "Requirement already satisfied: tomlkit<0.14.0,>=0.12.0 in c:\\users\\hp\\appdata\\local\\programs\\python\\python312\\lib\\site-packages (from gradio) (0.13.2)\n",
            "Requirement already satisfied: typer<1.0,>=0.12 in c:\\users\\hp\\appdata\\local\\programs\\python\\python312\\lib\\site-packages (from gradio) (0.15.1)\n",
            "Requirement already satisfied: typing-extensions~=4.0 in c:\\users\\hp\\appdata\\local\\programs\\python\\python312\\lib\\site-packages (from gradio) (4.12.2)\n",
            "Requirement already satisfied: uvicorn>=0.14.0 in c:\\users\\hp\\appdata\\local\\programs\\python\\python312\\lib\\site-packages (from gradio) (0.34.0)\n",
            "Requirement already satisfied: fsspec in c:\\users\\hp\\appdata\\local\\programs\\python\\python312\\lib\\site-packages (from gradio-client==1.7.0->gradio) (2025.2.0)\n",
            "Requirement already satisfied: websockets<15.0,>=10.0 in c:\\users\\hp\\appdata\\local\\programs\\python\\python312\\lib\\site-packages (from gradio-client==1.7.0->gradio) (14.2)\n",
            "Requirement already satisfied: idna>=2.8 in c:\\users\\hp\\appdata\\local\\programs\\python\\python312\\lib\\site-packages (from anyio<5.0,>=3.0->gradio) (2.10)\n",
            "Requirement already satisfied: sniffio>=1.1 in c:\\users\\hp\\appdata\\local\\programs\\python\\python312\\lib\\site-packages (from anyio<5.0,>=3.0->gradio) (1.3.1)\n",
            "Requirement already satisfied: certifi in c:\\users\\hp\\appdata\\local\\programs\\python\\python312\\lib\\site-packages (from httpx>=0.24.1->gradio) (2024.6.2)\n",
            "Requirement already satisfied: httpcore==1.* in c:\\users\\hp\\appdata\\local\\programs\\python\\python312\\lib\\site-packages (from httpx>=0.24.1->gradio) (1.0.7)\n",
            "Requirement already satisfied: h11<0.15,>=0.13 in c:\\users\\hp\\appdata\\local\\programs\\python\\python312\\lib\\site-packages (from httpcore==1.*->httpx>=0.24.1->gradio) (0.14.0)\n",
            "Requirement already satisfied: filelock in c:\\users\\hp\\appdata\\local\\programs\\python\\python312\\lib\\site-packages (from huggingface-hub>=0.28.1->gradio) (3.15.4)\n",
            "Requirement already satisfied: requests in c:\\users\\hp\\appdata\\local\\programs\\python\\python312\\lib\\site-packages (from huggingface-hub>=0.28.1->gradio) (2.32.3)\n",
            "Requirement already satisfied: tqdm>=4.42.1 in c:\\users\\hp\\appdata\\local\\programs\\python\\python312\\lib\\site-packages (from huggingface-hub>=0.28.1->gradio) (4.67.1)\n",
            "Requirement already satisfied: python-dateutil>=2.8.2 in c:\\users\\hp\\appdata\\local\\programs\\python\\python312\\lib\\site-packages (from pandas<3.0,>=1.0->gradio) (2.9.0.post0)\n",
            "Requirement already satisfied: pytz>=2020.1 in c:\\users\\hp\\appdata\\local\\programs\\python\\python312\\lib\\site-packages (from pandas<3.0,>=1.0->gradio) (2024.1)\n",
            "Requirement already satisfied: tzdata>=2022.7 in c:\\users\\hp\\appdata\\local\\programs\\python\\python312\\lib\\site-packages (from pandas<3.0,>=1.0->gradio) (2024.1)\n",
            "Requirement already satisfied: annotated-types>=0.6.0 in c:\\users\\hp\\appdata\\local\\programs\\python\\python312\\lib\\site-packages (from pydantic>=2.0->gradio) (0.7.0)\n",
            "Requirement already satisfied: pydantic-core==2.27.2 in c:\\users\\hp\\appdata\\local\\programs\\python\\python312\\lib\\site-packages (from pydantic>=2.0->gradio) (2.27.2)\n",
            "Requirement already satisfied: click>=8.0.0 in c:\\users\\hp\\appdata\\local\\programs\\python\\python312\\lib\\site-packages (from typer<1.0,>=0.12->gradio) (8.1.7)\n",
            "Requirement already satisfied: shellingham>=1.3.0 in c:\\users\\hp\\appdata\\local\\programs\\python\\python312\\lib\\site-packages (from typer<1.0,>=0.12->gradio) (1.5.4)\n",
            "Requirement already satisfied: rich>=10.11.0 in c:\\users\\hp\\appdata\\local\\programs\\python\\python312\\lib\\site-packages (from typer<1.0,>=0.12->gradio) (13.9.4)\n",
            "Requirement already satisfied: colorama in c:\\users\\hp\\appdata\\local\\programs\\python\\python312\\lib\\site-packages (from click>=8.0.0->typer<1.0,>=0.12->gradio) (0.4.6)\n",
            "Requirement already satisfied: six>=1.5 in c:\\users\\hp\\appdata\\local\\programs\\python\\python312\\lib\\site-packages (from python-dateutil>=2.8.2->pandas<3.0,>=1.0->gradio) (1.16.0)\n",
            "Requirement already satisfied: markdown-it-py>=2.2.0 in c:\\users\\hp\\appdata\\local\\programs\\python\\python312\\lib\\site-packages (from rich>=10.11.0->typer<1.0,>=0.12->gradio) (3.0.0)\n",
            "Requirement already satisfied: pygments<3.0.0,>=2.13.0 in c:\\users\\hp\\appdata\\roaming\\python\\python312\\site-packages (from rich>=10.11.0->typer<1.0,>=0.12->gradio) (2.19.1)\n",
            "Requirement already satisfied: charset-normalizer<4,>=2 in c:\\users\\hp\\appdata\\local\\programs\\python\\python312\\lib\\site-packages (from requests->huggingface-hub>=0.28.1->gradio) (3.3.2)\n",
            "Requirement already satisfied: urllib3<3,>=1.21.1 in c:\\users\\hp\\appdata\\local\\programs\\python\\python312\\lib\\site-packages (from requests->huggingface-hub>=0.28.1->gradio) (2.2.2)\n",
            "Requirement already satisfied: mdurl~=0.1 in c:\\users\\hp\\appdata\\local\\programs\\python\\python312\\lib\\site-packages (from markdown-it-py>=2.2.0->rich>=10.11.0->typer<1.0,>=0.12->gradio) (0.1.2)\n"
          ]
        },
        {
          "name": "stderr",
          "output_type": "stream",
          "text": [
            "c:\\Users\\HP\\AppData\\Local\\Programs\\Python\\Python312\\Lib\\site-packages\\tqdm\\auto.py:21: TqdmWarning: IProgress not found. Please update jupyter and ipywidgets. See https://ipywidgets.readthedocs.io/en/stable/user_install.html\n",
            "  from .autonotebook import tqdm as notebook_tqdm\n"
          ]
        }
      ],
      "source": [
        "import pandas as pd\n",
        "import numpy as np\n",
        "import matplotlib.pyplot as plt\n",
        "import seaborn as sns\n",
        "!pip install gradio\n",
        "import gradio as gr\n",
        "from sklearn.inspection import permutation_importance\n",
        "from sklearn.svm import SVC\n",
        "from sklearn.model_selection import train_test_split, RandomizedSearchCV\n",
        "from sklearn.metrics import confusion_matrix, accuracy_score, classification_report, roc_curve, auc\n",
        "from sklearn.calibration import calibration_curve"
      ]
    },
    {
      "cell_type": "code",
      "execution_count": 3,
      "metadata": {
        "colab": {
          "base_uri": "https://localhost:8080/"
        },
        "id": "SXkiuL09cJWQ",
        "outputId": "b2a0800e-47e9-4731-ca5c-63d342a38016"
      },
      "outputs": [
        {
          "name": "stdout",
          "output_type": "stream",
          "text": [
            "<class 'pandas.core.frame.DataFrame'>\n",
            "RangeIndex: 2050 entries, 0 to 2049\n",
            "Data columns (total 7 columns):\n",
            " #   Column             Non-Null Count  Dtype  \n",
            "---  ------             --------------  -----  \n",
            " 0   SRS_RAW_TOTAL      2050 non-null   int64  \n",
            " 1   SRS_AWARENESS      2050 non-null   float64\n",
            " 2   SRS_COGNITION      2050 non-null   float64\n",
            " 3   SRS_COMMUNICATION  2050 non-null   float64\n",
            " 4   SRS_MOTIVATION     2050 non-null   float64\n",
            " 5   SRS_MANNERISMS     2050 non-null   float64\n",
            " 6   HAS ADHD           2050 non-null   int64  \n",
            "dtypes: float64(5), int64(2)\n",
            "memory usage: 112.2 KB\n"
          ]
        }
      ],
      "source": [
        "df = pd.read_csv('./SRSavg.csv')\n",
        "\n",
        "df.info()"
      ]
    },
    {
      "cell_type": "code",
      "execution_count": 4,
      "metadata": {
        "colab": {
          "base_uri": "https://localhost:8080/",
          "height": 206
        },
        "id": "E4L_aW3acNCL",
        "outputId": "2c0ac1b6-a587-4b25-cf65-6d6229f8a3b6"
      },
      "outputs": [
        {
          "data": {
            "text/html": [
              "<div>\n",
              "<style scoped>\n",
              "    .dataframe tbody tr th:only-of-type {\n",
              "        vertical-align: middle;\n",
              "    }\n",
              "\n",
              "    .dataframe tbody tr th {\n",
              "        vertical-align: top;\n",
              "    }\n",
              "\n",
              "    .dataframe thead th {\n",
              "        text-align: right;\n",
              "    }\n",
              "</style>\n",
              "<table border=\"1\" class=\"dataframe\">\n",
              "  <thead>\n",
              "    <tr style=\"text-align: right;\">\n",
              "      <th></th>\n",
              "      <th>SRS_RAW_TOTAL</th>\n",
              "      <th>SRS_AWARENESS</th>\n",
              "      <th>SRS_COGNITION</th>\n",
              "      <th>SRS_COMMUNICATION</th>\n",
              "      <th>SRS_MOTIVATION</th>\n",
              "      <th>SRS_MANNERISMS</th>\n",
              "      <th>HAS ADHD</th>\n",
              "    </tr>\n",
              "  </thead>\n",
              "  <tbody>\n",
              "    <tr>\n",
              "      <th>0</th>\n",
              "      <td>38</td>\n",
              "      <td>3.0</td>\n",
              "      <td>7.0</td>\n",
              "      <td>15.0</td>\n",
              "      <td>6.0</td>\n",
              "      <td>7.0</td>\n",
              "      <td>0</td>\n",
              "    </tr>\n",
              "    <tr>\n",
              "      <th>1</th>\n",
              "      <td>35</td>\n",
              "      <td>8.0</td>\n",
              "      <td>6.0</td>\n",
              "      <td>15.0</td>\n",
              "      <td>4.0</td>\n",
              "      <td>2.0</td>\n",
              "      <td>0</td>\n",
              "    </tr>\n",
              "    <tr>\n",
              "      <th>2</th>\n",
              "      <td>32</td>\n",
              "      <td>5.0</td>\n",
              "      <td>7.0</td>\n",
              "      <td>9.0</td>\n",
              "      <td>3.0</td>\n",
              "      <td>8.0</td>\n",
              "      <td>0</td>\n",
              "    </tr>\n",
              "    <tr>\n",
              "      <th>3</th>\n",
              "      <td>68</td>\n",
              "      <td>10.0</td>\n",
              "      <td>15.0</td>\n",
              "      <td>22.0</td>\n",
              "      <td>15.0</td>\n",
              "      <td>6.0</td>\n",
              "      <td>0</td>\n",
              "    </tr>\n",
              "    <tr>\n",
              "      <th>4</th>\n",
              "      <td>54</td>\n",
              "      <td>6.0</td>\n",
              "      <td>11.0</td>\n",
              "      <td>15.0</td>\n",
              "      <td>8.0</td>\n",
              "      <td>14.0</td>\n",
              "      <td>0</td>\n",
              "    </tr>\n",
              "  </tbody>\n",
              "</table>\n",
              "</div>"
            ],
            "text/plain": [
              "   SRS_RAW_TOTAL  SRS_AWARENESS  SRS_COGNITION  SRS_COMMUNICATION  \\\n",
              "0             38            3.0            7.0               15.0   \n",
              "1             35            8.0            6.0               15.0   \n",
              "2             32            5.0            7.0                9.0   \n",
              "3             68           10.0           15.0               22.0   \n",
              "4             54            6.0           11.0               15.0   \n",
              "\n",
              "   SRS_MOTIVATION  SRS_MANNERISMS  HAS ADHD  \n",
              "0             6.0             7.0         0  \n",
              "1             4.0             2.0         0  \n",
              "2             3.0             8.0         0  \n",
              "3            15.0             6.0         0  \n",
              "4             8.0            14.0         0  "
            ]
          },
          "execution_count": 4,
          "metadata": {},
          "output_type": "execute_result"
        }
      ],
      "source": [
        "feature_columns = ['SRS_RAW_TOTAL', 'SRS_AWARENESS', 'SRS_COGNITION', 'SRS_COMMUNICATION', 'SRS_MOTIVATION', 'SRS_MANNERISMS']\n",
        "target_column = 'HAS ADHD'\n",
        "\n",
        "X = df[feature_columns]\n",
        "y = df[target_column]\n",
        "\n",
        "df.head()"
      ]
    },
    {
      "cell_type": "code",
      "execution_count": 5,
      "metadata": {
        "id": "eZJIUx6OcYYd"
      },
      "outputs": [],
      "source": [
        "X_train, X_test, y_train, y_test = train_test_split(X, y, test_size=0.2, random_state=42)"
      ]
    },
    {
      "cell_type": "code",
      "execution_count": 6,
      "metadata": {
        "colab": {
          "base_uri": "https://localhost:8080/"
        },
        "id": "zHltUf2jcfyG",
        "outputId": "f1072fd9-4e5c-44f6-b0a3-f195591dea6c"
      },
      "outputs": [
        {
          "name": "stdout",
          "output_type": "stream",
          "text": [
            "Requirement already satisfied: catboost in c:\\users\\hp\\appdata\\local\\programs\\python\\python312\\lib\\site-packages (1.2.7)\n",
            "Requirement already satisfied: graphviz in c:\\users\\hp\\appdata\\local\\programs\\python\\python312\\lib\\site-packages (from catboost) (0.20.3)\n",
            "Requirement already satisfied: matplotlib in c:\\users\\hp\\appdata\\local\\programs\\python\\python312\\lib\\site-packages (from catboost) (3.10.0)\n",
            "Requirement already satisfied: numpy<2.0,>=1.16.0 in c:\\users\\hp\\appdata\\local\\programs\\python\\python312\\lib\\site-packages (from catboost) (1.26.4)\n",
            "Requirement already satisfied: pandas>=0.24 in c:\\users\\hp\\appdata\\local\\programs\\python\\python312\\lib\\site-packages (from catboost) (2.2.3)\n",
            "Requirement already satisfied: scipy in c:\\users\\hp\\appdata\\local\\programs\\python\\python312\\lib\\site-packages (from catboost) (1.15.1)\n",
            "Requirement already satisfied: plotly in c:\\users\\hp\\appdata\\local\\programs\\python\\python312\\lib\\site-packages (from catboost) (6.0.0)\n",
            "Requirement already satisfied: six in c:\\users\\hp\\appdata\\local\\programs\\python\\python312\\lib\\site-packages (from catboost) (1.16.0)\n",
            "Requirement already satisfied: python-dateutil>=2.8.2 in c:\\users\\hp\\appdata\\local\\programs\\python\\python312\\lib\\site-packages (from pandas>=0.24->catboost) (2.9.0.post0)\n",
            "Requirement already satisfied: pytz>=2020.1 in c:\\users\\hp\\appdata\\local\\programs\\python\\python312\\lib\\site-packages (from pandas>=0.24->catboost) (2024.1)\n",
            "Requirement already satisfied: tzdata>=2022.7 in c:\\users\\hp\\appdata\\local\\programs\\python\\python312\\lib\\site-packages (from pandas>=0.24->catboost) (2024.1)\n",
            "Requirement already satisfied: contourpy>=1.0.1 in c:\\users\\hp\\appdata\\local\\programs\\python\\python312\\lib\\site-packages (from matplotlib->catboost) (1.3.1)\n",
            "Requirement already satisfied: cycler>=0.10 in c:\\users\\hp\\appdata\\local\\programs\\python\\python312\\lib\\site-packages (from matplotlib->catboost) (0.12.1)\n",
            "Requirement already satisfied: fonttools>=4.22.0 in c:\\users\\hp\\appdata\\local\\programs\\python\\python312\\lib\\site-packages (from matplotlib->catboost) (4.55.8)\n",
            "Requirement already satisfied: kiwisolver>=1.3.1 in c:\\users\\hp\\appdata\\local\\programs\\python\\python312\\lib\\site-packages (from matplotlib->catboost) (1.4.8)\n",
            "Requirement already satisfied: packaging>=20.0 in c:\\users\\hp\\appdata\\local\\programs\\python\\python312\\lib\\site-packages (from matplotlib->catboost) (24.1)\n",
            "Requirement already satisfied: pillow>=8 in c:\\users\\hp\\appdata\\local\\programs\\python\\python312\\lib\\site-packages (from matplotlib->catboost) (10.4.0)\n",
            "Requirement already satisfied: pyparsing>=2.3.1 in c:\\users\\hp\\appdata\\local\\programs\\python\\python312\\lib\\site-packages (from matplotlib->catboost) (3.2.1)\n",
            "Requirement already satisfied: narwhals>=1.15.1 in c:\\users\\hp\\appdata\\local\\programs\\python\\python312\\lib\\site-packages (from plotly->catboost) (1.26.0)\n"
          ]
        },
        {
          "name": "stderr",
          "output_type": "stream",
          "text": [
            "WARNING: Ignoring invalid distribution ~ensorboard (C:\\Users\\HP\\AppData\\Local\\Programs\\Python\\Python312\\Lib\\site-packages)\n",
            "WARNING: Ignoring invalid distribution ~ensorflow-intel (C:\\Users\\HP\\AppData\\Local\\Programs\\Python\\Python312\\Lib\\site-packages)\n",
            "WARNING: Ignoring invalid distribution ~ensorboard (C:\\Users\\HP\\AppData\\Local\\Programs\\Python\\Python312\\Lib\\site-packages)\n",
            "WARNING: Ignoring invalid distribution ~ensorflow-intel (C:\\Users\\HP\\AppData\\Local\\Programs\\Python\\Python312\\Lib\\site-packages)\n",
            "WARNING: Ignoring invalid distribution ~ensorboard (C:\\Users\\HP\\AppData\\Local\\Programs\\Python\\Python312\\Lib\\site-packages)\n",
            "WARNING: Ignoring invalid distribution ~ensorflow-intel (C:\\Users\\HP\\AppData\\Local\\Programs\\Python\\Python312\\Lib\\site-packages)\n",
            "\n",
            "[notice] A new release of pip is available: 25.0 -> 25.0.1\n",
            "[notice] To update, run: python.exe -m pip install --upgrade pip\n"
          ]
        },
        {
          "name": "stdout",
          "output_type": "stream",
          "text": [
            "0:\tlearn: 0.8250000\ttest: 0.8463415\tbest: 0.8463415 (0)\ttotal: 169ms\tremaining: 1m 24s\n",
            "100:\tlearn: 0.9615854\ttest: 0.9243902\tbest: 0.9243902 (96)\ttotal: 300ms\tremaining: 1.19s\n",
            "Stopped by overfitting detector  (50 iterations wait)\n",
            "\n",
            "bestTest = 0.9390243902\n",
            "bestIteration = 148\n",
            "\n",
            "Shrink model to first 149 iterations.\n",
            "Test Accuracy: 0.9390\n",
            "              precision    recall  f1-score   support\n",
            "\n",
            "           0       0.97      0.90      0.94       205\n",
            "           1       0.91      0.98      0.94       205\n",
            "\n",
            "    accuracy                           0.94       410\n",
            "   macro avg       0.94      0.94      0.94       410\n",
            "weighted avg       0.94      0.94      0.94       410\n",
            "\n"
          ]
        }
      ],
      "source": [
        "!pip install catboost\n",
        "from catboost import CatBoostClassifier\n",
        "from sklearn.metrics import accuracy_score, classification_report\n",
        "from sklearn.utils import shuffle\n",
        "X_train, y_train = shuffle(X_train, y_train, random_state=42)\n",
        "\n",
        "\n",
        "# Initialize the CatBoostClassifier\n",
        "model = CatBoostClassifier(\n",
        "    iterations=500,  # Number of trees\n",
        "    depth=6,  # Tree depth\n",
        "    learning_rate=0.1,  # Controls step size\n",
        "    loss_function='Logloss',  # For binary classification\n",
        "    eval_metric='Accuracy',\n",
        "    verbose=100\n",
        ")\n",
        "\n",
        "# Train the model\n",
        "model.fit(X_train, y_train, eval_set=(X_test, y_test), early_stopping_rounds=50)\n",
        "\n",
        "# Make predictions\n",
        "y_pred = model.predict(X_test)\n",
        "\n",
        "# Evaluate model performance\n",
        "accuracy = accuracy_score(y_test, y_pred)\n",
        "print(f\"Test Accuracy: {accuracy:.4f}\")\n",
        "print(classification_report(y_test, y_pred))"
      ]
    },
    {
      "cell_type": "code",
      "execution_count": 7,
      "metadata": {
        "colab": {
          "base_uri": "https://localhost:8080/"
        },
        "id": "Jy17fCiNcl97",
        "outputId": "f0504aae-8f39-4811-d959-f2f1fc0d57b4"
      },
      "outputs": [
        {
          "name": "stdout",
          "output_type": "stream",
          "text": [
            "Test Accuracy: 0.9341\n"
          ]
        }
      ],
      "source": [
        "from xgboost import XGBClassifier\n",
        "from sklearn.metrics import accuracy_score\n",
        "\n",
        "xgb_model = XGBClassifier(n_estimators=500, learning_rate=0.05, max_depth=6)\n",
        "xgb_model.fit(X_train, y_train)\n",
        "\n",
        "y_pred = xgb_model.predict(X_test)\n",
        "print(f\"Test Accuracy: {accuracy_score(y_test, y_pred):.4f}\")\n"
      ]
    },
    {
      "cell_type": "code",
      "execution_count": null,
      "metadata": {
        "colab": {
          "base_uri": "https://localhost:8080/"
        },
        "id": "iyMQkRRucvH-",
        "outputId": "30109b9e-c4f7-4f8b-fc43-e19ce4e3ebc0"
      },
      "outputs": [
        {
          "name": "stdout",
          "output_type": "stream",
          "text": [
            "Fitting 5 folds for each of 9 candidates, totalling 45 fits\n",
            "Best Parameters: {'C': 1, 'gamma': 1, 'kernel': 'rbf'}\n",
            "Accuracy: 98.78\n",
            "              precision    recall  f1-score   support\n",
            "\n",
            "           0       0.99      0.99      0.99       205\n",
            "           1       0.99      0.99      0.99       205\n",
            "\n",
            "    accuracy                           0.99       410\n",
            "   macro avg       0.99      0.99      0.99       410\n",
            "weighted avg       0.99      0.99      0.99       410\n",
            "\n"
          ]
        }
      ],
      "source": [
        "from sklearn.svm import SVC\n",
        "from sklearn.model_selection import RandomizedSearchCV,GridSearchCV\n",
        "\n",
        "# Define a larger search space for hyperparameters\n",
        "param_grid = {\n",
        "    'C': [1, 10,100],  # More values for regularization\n",
        "    'gamma': [1, 0.1, 0.01],  # Wider range for RBF gamma\n",
        "    'kernel': ['rbf'],  # Keeping the best performing kernel\n",
        "}\n",
        "\n",
        "# Initialize SVC\n",
        "svm_model = SVC(probability=True)\n",
        "\n",
        "# Using RandomizedSearchCV for better hyperparameter tuning\n",
        "'''random_search = RandomizedSearchCV(\n",
        "    svm_model, param_distributions=param_grid,\n",
        "    n_iter=20, cv=10, verbose=2, random_state=42, n_jobs=-1\n",
        ")'''\n",
        "random_search = GridSearchCV(\n",
        "    svm_model, param_grid,\n",
        "    cv=5, verbose=2, n_jobs=-1\n",
        ")\n",
        "random_search.fit(X_train, y_train)\n",
        "\n",
        "# Best Parameters\n",
        "print(f\"Best Parameters: {random_search.best_params_}\")\n",
        "best_model = random_search.best_estimator_\n",
        "y_pred = best_model.predict(X_test)\n",
        "accuracy = accuracy_score(y_test, y_pred)\n",
        "print(f\"Accuracy: {accuracy * 100:.2f}\")\n",
        "\n",
        "report = classification_report(y_test, y_pred)\n",
        "print(report)\n",
        "\n",
        "def predict_data(info):\n",
        "    print(best_model.predict(info))"
      ]
    },
    {
      "cell_type": "code",
      "execution_count": 9,
      "metadata": {
        "colab": {
          "base_uri": "https://localhost:8080/"
        },
        "id": "By5UMYUFd0We",
        "outputId": "c0c59206-2418-46f7-c8fc-5ac02eec3563"
      },
      "outputs": [
        {
          "name": "stdout",
          "output_type": "stream",
          "text": [
            "Random Forest Performance:\n",
            "              precision    recall  f1-score   support\n",
            "\n",
            "           0       0.99      0.91      0.95       205\n",
            "           1       0.91      0.99      0.95       205\n",
            "\n",
            "    accuracy                           0.95       410\n",
            "   macro avg       0.95      0.95      0.95       410\n",
            "weighted avg       0.95      0.95      0.95       410\n",
            "\n",
            "Accuracy: 0.9488\n"
          ]
        }
      ],
      "source": [
        "from sklearn.ensemble import RandomForestClassifier\n",
        "from sklearn.metrics import accuracy_score, classification_report\n",
        "\n",
        "rf_model = RandomForestClassifier(n_estimators=100, random_state=42)\n",
        "rf_model.fit(X_train, y_train)\n",
        "rf_preds = rf_model.predict(X_test)\n",
        "\n",
        "print(\"Random Forest Performance:\")\n",
        "print(classification_report(y_test, rf_preds))\n",
        "print(f\"Accuracy: {accuracy_score(y_test, rf_preds):.4f}\")\n"
      ]
    },
    {
      "cell_type": "code",
      "execution_count": 10,
      "metadata": {
        "colab": {
          "base_uri": "https://localhost:8080/"
        },
        "id": "ZE4JwiZ1eTsq",
        "outputId": "a9f29e5d-e974-4e6a-858c-b5616484cafb"
      },
      "outputs": [
        {
          "name": "stdout",
          "output_type": "stream",
          "text": [
            "Logistic Regression Performance:\n",
            "              precision    recall  f1-score   support\n",
            "\n",
            "           0       0.80      0.82      0.81       205\n",
            "           1       0.82      0.80      0.81       205\n",
            "\n",
            "    accuracy                           0.81       410\n",
            "   macro avg       0.81      0.81      0.81       410\n",
            "weighted avg       0.81      0.81      0.81       410\n",
            "\n",
            "Accuracy: 0.8098\n"
          ]
        }
      ],
      "source": [
        "from sklearn.linear_model import LogisticRegression\n",
        "from sklearn.metrics import accuracy_score, classification_report\n",
        "\n",
        "log_reg_model = LogisticRegression(max_iter=1000, random_state=42)\n",
        "log_reg_model.fit(X_train, y_train)\n",
        "log_reg_preds = log_reg_model.predict(X_test)\n",
        "\n",
        "print(\"Logistic Regression Performance:\")\n",
        "print(classification_report(y_test, log_reg_preds))\n",
        "print(f\"Accuracy: {accuracy_score(y_test, log_reg_preds):.4f}\")\n"
      ]
    },
    {
      "cell_type": "code",
      "execution_count": 11,
      "metadata": {
        "colab": {
          "base_uri": "https://localhost:8080/",
          "height": 452
        },
        "collapsed": true,
        "id": "3VWUs8qxfKf7",
        "outputId": "e8f70358-5421-4748-86b6-b9473e95d7b7"
      },
      "outputs": [
        {
          "data": {
            "image/png": "[encoded data removed]",
            "text/plain": [
              "<Figure size 640x480 with 1 Axes>"
            ]
          },
          "metadata": {},
          "output_type": "display_data"
        }
      ],
      "source": [
        "from sklearn.decomposition import PCA\n",
        "import matplotlib.pyplot as plt\n",
        "\n",
        "pca = PCA(n_components=6)\n",
        "X_pca = pca.fit_transform(X_train)\n",
        "\n",
        "plt.scatter(X_pca[:, 0], X_pca[:, 1], c=y_train, cmap='coolwarm')\n",
        "plt.title(\"PCA Visualization of Data\")\n",
        "plt.show()\n"
      ]
    },
    {
      "cell_type": "code",
      "execution_count": 12,
      "metadata": {
        "colab": {
          "base_uri": "https://localhost:8080/"
        },
        "collapsed": true,
        "id": "ERpoHOBsjuMJ",
        "outputId": "65e2d3ae-a412-46b3-f05c-c9172e4dc251"
      },
      "outputs": [
        {
          "name": "stdout",
          "output_type": "stream",
          "text": [
            "Epoch 1/50\n"
          ]
        },
        {
          "name": "stderr",
          "output_type": "stream",
          "text": [
            "c:\\Users\\HP\\AppData\\Local\\Programs\\Python\\Python312\\Lib\\site-packages\\keras\\src\\layers\\core\\dense.py:87: UserWarning: Do not pass an `input_shape`/`input_dim` argument to a layer. When using Sequential models, prefer using an `Input(shape)` object as the first layer in the model instead.\n",
            "  super().__init__(activity_regularizer=activity_regularizer, **kwargs)\n"
          ]
        },
        {
          "name": "stdout",
          "output_type": "stream",
          "text": [
            "\u001b[1m103/103\u001b[0m \u001b[32m━━━━━━━━━━━━━━━━━━━━\u001b[0m\u001b[37m\u001b[0m \u001b[1m1s\u001b[0m 4ms/step - accuracy: 0.7179 - loss: 0.5372 - val_accuracy: 0.5000 - val_loss: 6.8720\n",
            "Epoch 2/50\n",
            "\u001b[1m103/103\u001b[0m \u001b[32m━━━━━━━━━━━━━━━━━━━━\u001b[0m\u001b[37m\u001b[0m \u001b[1m0s\u001b[0m 2ms/step - accuracy: 0.8345 - loss: 0.3932 - val_accuracy: 0.5683 - val_loss: 2.0858\n",
            "Epoch 3/50\n",
            "\u001b[1m103/103\u001b[0m \u001b[32m━━━━━━━━━━━━━━━━━━━━\u001b[0m\u001b[37m\u001b[0m \u001b[1m0s\u001b[0m 2ms/step - accuracy: 0.8325 - loss: 0.3879 - val_accuracy: 0.5659 - val_loss: 2.5606\n",
            "Epoch 4/50\n",
            "\u001b[1m103/103\u001b[0m \u001b[32m━━━━━━━━━━━━━━━━━━━━\u001b[0m\u001b[37m\u001b[0m \u001b[1m0s\u001b[0m 2ms/step - accuracy: 0.8197 - loss: 0.4051 - val_accuracy: 0.5683 - val_loss: 2.8847\n",
            "Epoch 5/50\n",
            "\u001b[1m103/103\u001b[0m \u001b[32m━━━━━━━━━━━━━━━━━━━━\u001b[0m\u001b[37m\u001b[0m \u001b[1m0s\u001b[0m 2ms/step - accuracy: 0.8484 - loss: 0.3657 - val_accuracy: 0.5683 - val_loss: 2.3653\n",
            "Epoch 6/50\n",
            "\u001b[1m103/103\u001b[0m \u001b[32m━━━━━━━━━━━━━━━━━━━━\u001b[0m\u001b[37m\u001b[0m \u001b[1m0s\u001b[0m 2ms/step - accuracy: 0.8374 - loss: 0.3794 - val_accuracy: 0.5780 - val_loss: 2.3419\n",
            "Epoch 7/50\n",
            "\u001b[1m103/103\u001b[0m \u001b[32m━━━━━━━━━━━━━━━━━━━━\u001b[0m\u001b[37m\u001b[0m \u001b[1m0s\u001b[0m 2ms/step - accuracy: 0.8375 - loss: 0.3941 - val_accuracy: 0.5732 - val_loss: 2.6225\n",
            "Epoch 8/50\n",
            "\u001b[1m103/103\u001b[0m \u001b[32m━━━━━━━━━━━━━━━━━━━━\u001b[0m\u001b[37m\u001b[0m \u001b[1m0s\u001b[0m 2ms/step - accuracy: 0.8490 - loss: 0.3586 - val_accuracy: 0.5610 - val_loss: 2.2546\n",
            "Epoch 9/50\n",
            "\u001b[1m103/103\u001b[0m \u001b[32m━━━━━━━━━━━━━━━━━━━━\u001b[0m\u001b[37m\u001b[0m \u001b[1m0s\u001b[0m 2ms/step - accuracy: 0.8410 - loss: 0.3747 - val_accuracy: 0.5756 - val_loss: 3.5290\n",
            "Epoch 10/50\n",
            "\u001b[1m103/103\u001b[0m \u001b[32m━━━━━━━━━━━━━━━━━━━━\u001b[0m\u001b[37m\u001b[0m \u001b[1m0s\u001b[0m 2ms/step - accuracy: 0.8486 - loss: 0.3566 - val_accuracy: 0.5780 - val_loss: 2.9250\n",
            "Epoch 11/50\n",
            "\u001b[1m103/103\u001b[0m \u001b[32m━━━━━━━━━━━━━━━━━━━━\u001b[0m\u001b[37m\u001b[0m \u001b[1m0s\u001b[0m 2ms/step - accuracy: 0.8451 - loss: 0.3579 - val_accuracy: 0.5707 - val_loss: 3.5350\n",
            "Epoch 12/50\n",
            "\u001b[1m103/103\u001b[0m \u001b[32m━━━━━━━━━━━━━━━━━━━━\u001b[0m\u001b[37m\u001b[0m \u001b[1m0s\u001b[0m 2ms/step - accuracy: 0.8589 - loss: 0.3484 - val_accuracy: 0.5171 - val_loss: 2.2446\n",
            "Epoch 13/50\n",
            "\u001b[1m103/103\u001b[0m \u001b[32m━━━━━━━━━━━━━━━━━━━━\u001b[0m\u001b[37m\u001b[0m \u001b[1m0s\u001b[0m 3ms/step - accuracy: 0.8584 - loss: 0.3305 - val_accuracy: 0.5561 - val_loss: 2.0917\n",
            "Epoch 14/50\n",
            "\u001b[1m103/103\u001b[0m \u001b[32m━━━━━━━━━━━━━━━━━━━━\u001b[0m\u001b[37m\u001b[0m \u001b[1m0s\u001b[0m 3ms/step - accuracy: 0.8669 - loss: 0.3342 - val_accuracy: 0.4732 - val_loss: 2.4354\n",
            "Epoch 15/50\n",
            "\u001b[1m103/103\u001b[0m \u001b[32m━━━━━━━━━━━━━━━━━━━━\u001b[0m\u001b[37m\u001b[0m \u001b[1m0s\u001b[0m 3ms/step - accuracy: 0.8695 - loss: 0.3175 - val_accuracy: 0.5780 - val_loss: 2.8308\n",
            "Epoch 16/50\n",
            "\u001b[1m103/103\u001b[0m \u001b[32m━━━━━━━━━━━━━━━━━━━━\u001b[0m\u001b[37m\u001b[0m \u001b[1m0s\u001b[0m 3ms/step - accuracy: 0.8545 - loss: 0.3462 - val_accuracy: 0.4561 - val_loss: 2.5212\n",
            "Epoch 17/50\n",
            "\u001b[1m103/103\u001b[0m \u001b[32m━━━━━━━━━━━━━━━━━━━━\u001b[0m\u001b[37m\u001b[0m \u001b[1m0s\u001b[0m 3ms/step - accuracy: 0.8639 - loss: 0.3415 - val_accuracy: 0.4341 - val_loss: 2.9345\n",
            "Epoch 18/50\n",
            "\u001b[1m103/103\u001b[0m \u001b[32m━━━━━━━━━━━━━━━━━━━━\u001b[0m\u001b[37m\u001b[0m \u001b[1m0s\u001b[0m 3ms/step - accuracy: 0.8678 - loss: 0.3243 - val_accuracy: 0.5439 - val_loss: 2.1332\n",
            "Epoch 19/50\n",
            "\u001b[1m103/103\u001b[0m \u001b[32m━━━━━━━━━━━━━━━━━━━━\u001b[0m\u001b[37m\u001b[0m \u001b[1m0s\u001b[0m 3ms/step - accuracy: 0.8626 - loss: 0.3375 - val_accuracy: 0.5683 - val_loss: 2.3853\n",
            "Epoch 20/50\n",
            "\u001b[1m103/103\u001b[0m \u001b[32m━━━━━━━━━━━━━━━━━━━━\u001b[0m\u001b[37m\u001b[0m \u001b[1m0s\u001b[0m 3ms/step - accuracy: 0.8808 - loss: 0.3046 - val_accuracy: 0.5756 - val_loss: 2.8959\n",
            "Epoch 21/50\n",
            "\u001b[1m103/103\u001b[0m \u001b[32m━━━━━━━━━━━━━━━━━━━━\u001b[0m\u001b[37m\u001b[0m \u001b[1m0s\u001b[0m 3ms/step - accuracy: 0.8822 - loss: 0.3079 - val_accuracy: 0.5780 - val_loss: 2.8724\n",
            "Epoch 22/50\n",
            "\u001b[1m103/103\u001b[0m \u001b[32m━━━━━━━━━━━━━━━━━━━━\u001b[0m\u001b[37m\u001b[0m \u001b[1m0s\u001b[0m 2ms/step - accuracy: 0.8848 - loss: 0.2957 - val_accuracy: 0.5000 - val_loss: 2.2644\n",
            "Epoch 23/50\n",
            "\u001b[1m103/103\u001b[0m \u001b[32m━━━━━━━━━━━━━━━━━━━━\u001b[0m\u001b[37m\u001b[0m \u001b[1m0s\u001b[0m 3ms/step - accuracy: 0.8886 - loss: 0.2983 - val_accuracy: 0.5171 - val_loss: 2.5045\n",
            "Epoch 24/50\n",
            "\u001b[1m103/103\u001b[0m \u001b[32m━━━━━━━━━━━━━━━━━━━━\u001b[0m\u001b[37m\u001b[0m \u001b[1m0s\u001b[0m 3ms/step - accuracy: 0.8860 - loss: 0.2970 - val_accuracy: 0.4366 - val_loss: 2.8541\n",
            "Epoch 25/50\n",
            "\u001b[1m103/103\u001b[0m \u001b[32m━━━━━━━━━━━━━━━━━━━━\u001b[0m\u001b[37m\u001b[0m \u001b[1m0s\u001b[0m 2ms/step - accuracy: 0.8902 - loss: 0.2850 - val_accuracy: 0.5390 - val_loss: 2.2395\n",
            "Epoch 26/50\n",
            "\u001b[1m103/103\u001b[0m \u001b[32m━━━━━━━━━━━━━━━━━━━━\u001b[0m\u001b[37m\u001b[0m \u001b[1m0s\u001b[0m 3ms/step - accuracy: 0.8848 - loss: 0.2846 - val_accuracy: 0.5780 - val_loss: 3.0673\n",
            "Epoch 27/50\n",
            "\u001b[1m103/103\u001b[0m \u001b[32m━━━━━━━━━━━━━━━━━━━━\u001b[0m\u001b[37m\u001b[0m \u001b[1m0s\u001b[0m 2ms/step - accuracy: 0.8931 - loss: 0.2767 - val_accuracy: 0.5390 - val_loss: 2.5776\n",
            "Epoch 28/50\n",
            "\u001b[1m103/103\u001b[0m \u001b[32m━━━━━━━━━━━━━━━━━━━━\u001b[0m\u001b[37m\u001b[0m \u001b[1m0s\u001b[0m 3ms/step - accuracy: 0.9007 - loss: 0.2568 - val_accuracy: 0.5463 - val_loss: 2.9844\n",
            "Epoch 29/50\n",
            "\u001b[1m103/103\u001b[0m \u001b[32m━━━━━━━━━━━━━━━━━━━━\u001b[0m\u001b[37m\u001b[0m \u001b[1m0s\u001b[0m 3ms/step - accuracy: 0.8810 - loss: 0.2764 - val_accuracy: 0.5585 - val_loss: 2.7669\n",
            "Epoch 30/50\n",
            "\u001b[1m103/103\u001b[0m \u001b[32m━━━━━━━━━━━━━━━━━━━━\u001b[0m\u001b[37m\u001b[0m \u001b[1m0s\u001b[0m 2ms/step - accuracy: 0.8950 - loss: 0.2682 - val_accuracy: 0.5707 - val_loss: 2.7984\n",
            "Epoch 31/50\n",
            "\u001b[1m103/103\u001b[0m \u001b[32m━━━━━━━━━━━━━━━━━━━━\u001b[0m\u001b[37m\u001b[0m \u001b[1m0s\u001b[0m 3ms/step - accuracy: 0.9061 - loss: 0.2479 - val_accuracy: 0.5488 - val_loss: 3.2719\n",
            "Epoch 32/50\n",
            "\u001b[1m103/103\u001b[0m \u001b[32m━━━━━━━━━━━━━━━━━━━━\u001b[0m\u001b[37m\u001b[0m \u001b[1m0s\u001b[0m 3ms/step - accuracy: 0.9134 - loss: 0.2365 - val_accuracy: 0.5683 - val_loss: 2.6898\n",
            "Epoch 33/50\n",
            "\u001b[1m103/103\u001b[0m \u001b[32m━━━━━━━━━━━━━━━━━━━━\u001b[0m\u001b[37m\u001b[0m \u001b[1m0s\u001b[0m 3ms/step - accuracy: 0.9067 - loss: 0.2403 - val_accuracy: 0.5707 - val_loss: 2.9107\n",
            "Epoch 34/50\n",
            "\u001b[1m103/103\u001b[0m \u001b[32m━━━━━━━━━━━━━━━━━━━━\u001b[0m\u001b[37m\u001b[0m \u001b[1m0s\u001b[0m 3ms/step - accuracy: 0.9167 - loss: 0.2384 - val_accuracy: 0.5512 - val_loss: 3.2667\n",
            "Epoch 35/50\n",
            "\u001b[1m103/103\u001b[0m \u001b[32m━━━━━━━━━━━━━━━━━━━━\u001b[0m\u001b[37m\u001b[0m \u001b[1m0s\u001b[0m 4ms/step - accuracy: 0.9050 - loss: 0.2507 - val_accuracy: 0.5439 - val_loss: 4.9679\n",
            "Epoch 36/50\n",
            "\u001b[1m103/103\u001b[0m \u001b[32m━━━━━━━━━━━━━━━━━━━━\u001b[0m\u001b[37m\u001b[0m \u001b[1m0s\u001b[0m 2ms/step - accuracy: 0.9146 - loss: 0.2240 - val_accuracy: 0.5415 - val_loss: 3.2353\n",
            "Epoch 37/50\n",
            "\u001b[1m103/103\u001b[0m \u001b[32m━━━━━━━━━━━━━━━━━━━━\u001b[0m\u001b[37m\u001b[0m \u001b[1m0s\u001b[0m 2ms/step - accuracy: 0.9144 - loss: 0.2344 - val_accuracy: 0.4829 - val_loss: 3.4533\n",
            "Epoch 38/50\n",
            "\u001b[1m103/103\u001b[0m \u001b[32m━━━━━━━━━━━━━━━━━━━━\u001b[0m\u001b[37m\u001b[0m \u001b[1m0s\u001b[0m 2ms/step - accuracy: 0.9148 - loss: 0.2288 - val_accuracy: 0.5366 - val_loss: 6.7429\n",
            "Epoch 39/50\n",
            "\u001b[1m103/103\u001b[0m \u001b[32m━━━━━━━━━━━━━━━━━━━━\u001b[0m\u001b[37m\u001b[0m \u001b[1m0s\u001b[0m 2ms/step - accuracy: 0.9154 - loss: 0.2356 - val_accuracy: 0.5463 - val_loss: 5.5932\n",
            "Epoch 40/50\n",
            "\u001b[1m103/103\u001b[0m \u001b[32m━━━━━━━━━━━━━━━━━━━━\u001b[0m\u001b[37m\u001b[0m \u001b[1m0s\u001b[0m 3ms/step - accuracy: 0.9219 - loss: 0.2186 - val_accuracy: 0.5659 - val_loss: 5.5642\n",
            "Epoch 41/50\n",
            "\u001b[1m103/103\u001b[0m \u001b[32m━━━━━━━━━━━━━━━━━━━━\u001b[0m\u001b[37m\u001b[0m \u001b[1m0s\u001b[0m 3ms/step - accuracy: 0.9200 - loss: 0.2102 - val_accuracy: 0.5415 - val_loss: 7.3322\n",
            "Epoch 42/50\n",
            "\u001b[1m103/103\u001b[0m \u001b[32m━━━━━━━━━━━━━━━━━━━━\u001b[0m\u001b[37m\u001b[0m \u001b[1m0s\u001b[0m 3ms/step - accuracy: 0.9250 - loss: 0.2140 - val_accuracy: 0.5659 - val_loss: 3.2104\n",
            "Epoch 43/50\n",
            "\u001b[1m103/103\u001b[0m \u001b[32m━━━━━━━━━━━━━━━━━━━━\u001b[0m\u001b[37m\u001b[0m \u001b[1m0s\u001b[0m 3ms/step - accuracy: 0.9305 - loss: 0.1983 - val_accuracy: 0.5659 - val_loss: 3.3623\n",
            "Epoch 44/50\n",
            "\u001b[1m103/103\u001b[0m \u001b[32m━━━━━━━━━━━━━━━━━━━━\u001b[0m\u001b[37m\u001b[0m \u001b[1m0s\u001b[0m 3ms/step - accuracy: 0.9313 - loss: 0.1953 - val_accuracy: 0.5610 - val_loss: 6.5816\n",
            "Epoch 45/50\n",
            "\u001b[1m103/103\u001b[0m \u001b[32m━━━━━━━━━━━━━━━━━━━━\u001b[0m\u001b[37m\u001b[0m \u001b[1m0s\u001b[0m 3ms/step - accuracy: 0.9367 - loss: 0.1840 - val_accuracy: 0.5610 - val_loss: 6.6591\n",
            "Epoch 46/50\n",
            "\u001b[1m103/103\u001b[0m \u001b[32m━━━━━━━━━━━━━━━━━━━━\u001b[0m\u001b[37m\u001b[0m \u001b[1m0s\u001b[0m 3ms/step - accuracy: 0.9403 - loss: 0.1814 - val_accuracy: 0.5707 - val_loss: 3.7505\n",
            "Epoch 47/50\n",
            "\u001b[1m103/103\u001b[0m \u001b[32m━━━━━━━━━━━━━━━━━━━━\u001b[0m\u001b[37m\u001b[0m \u001b[1m0s\u001b[0m 3ms/step - accuracy: 0.9362 - loss: 0.1934 - val_accuracy: 0.5610 - val_loss: 6.3682\n",
            "Epoch 48/50\n",
            "\u001b[1m103/103\u001b[0m \u001b[32m━━━━━━━━━━━━━━━━━━━━\u001b[0m\u001b[37m\u001b[0m \u001b[1m0s\u001b[0m 3ms/step - accuracy: 0.9296 - loss: 0.1882 - val_accuracy: 0.5683 - val_loss: 6.2400\n",
            "Epoch 49/50\n",
            "\u001b[1m103/103\u001b[0m \u001b[32m━━━━━━━━━━━━━━━━━━━━\u001b[0m\u001b[37m\u001b[0m \u001b[1m0s\u001b[0m 3ms/step - accuracy: 0.9426 - loss: 0.1826 - val_accuracy: 0.5366 - val_loss: 9.6430\n",
            "Epoch 50/50\n",
            "\u001b[1m103/103\u001b[0m \u001b[32m━━━━━━━━━━━━━━━━━━━━\u001b[0m\u001b[37m\u001b[0m \u001b[1m0s\u001b[0m 2ms/step - accuracy: 0.9469 - loss: 0.1656 - val_accuracy: 0.5585 - val_loss: 3.8194\n",
            "\u001b[1m13/13\u001b[0m \u001b[32m━━━━━━━━━━━━━━━━━━━━\u001b[0m\u001b[37m\u001b[0m \u001b[1m0s\u001b[0m 3ms/step - accuracy: 0.9193 - loss: 0.2323 \n",
            "Test Accuracy: 0.9220\n"
          ]
        }
      ],
      "source": [
        "import tensorflow as tf\n",
        "from tensorflow import keras\n",
        "from tensorflow.keras.models import Sequential\n",
        "from tensorflow.keras.layers import Dense\n",
        "from sklearn.preprocessing import StandardScaler\n",
        "\n",
        "scaler = StandardScaler()\n",
        "X_train_scaled = scaler.fit_transform(X_train)\n",
        "X_test_scaled = scaler.transform(X_test)\n",
        "# Define MLP Model\n",
        "model = Sequential([\n",
        "    Dense(128, activation='relu', input_shape=(X_train.shape[1],)),  # Input layer\n",
        "    Dense(64, activation='relu'),  # Hidden layer\n",
        "    Dense(1, activation='sigmoid')  # Output layer (Binary Classification)\n",
        "])\n",
        "\n",
        "\n",
        "\n",
        "\n",
        "# Compile the model\n",
        "model.compile(optimizer='adam', loss='binary_crossentropy', metrics=['accuracy'])\n",
        "\n",
        "# Train the model\n",
        "model.fit(X_train_scaled, y_train, validation_data=(X_test, y_test), epochs=50, batch_size=16)\n",
        "\n",
        "# Evaluate\n",
        "test_loss, test_acc = model.evaluate(X_test_scaled, y_test)\n",
        "print(f\"Test Accuracy: {test_acc:.4f}\")\n"
      ]
    },
    {
      "cell_type": "code",
      "execution_count": null,
      "metadata": {
        "colab": {
          "base_uri": "https://localhost:8080/"
        },
        "collapsed": true,
        "id": "phz3DjmklAQV",
        "outputId": "249474ef-f526-408f-9dcd-f8f6a4e52cbe"
      },
      "outputs": [
        {
          "name": "stdout",
          "output_type": "stream",
          "text": [
            "Epoch 1/100\n"
          ]
        },
        {
          "name": "stderr",
          "output_type": "stream",
          "text": [
            "/usr/local/lib/python3.11/dist-packages/keras/src/layers/core/dense.py:87: UserWarning: Do not pass an `input_shape`/`input_dim` argument to a layer. When using Sequential models, prefer using an `Input(shape)` object as the first layer in the model instead.\n",
            "  super().__init__(activity_regularizer=activity_regularizer, **kwargs)\n"
          ]
        },
        {
          "name": "stdout",
          "output_type": "stream",
          "text": [
            "103/103 - 3s - 27ms/step - accuracy: 0.8012 - loss: 0.4484 - val_accuracy: 0.8439 - val_loss: 0.4073\n",
            "Epoch 2/100\n",
            "103/103 - 1s - 10ms/step - accuracy: 0.8317 - loss: 0.4011 - val_accuracy: 0.8415 - val_loss: 0.3873\n",
            "Epoch 3/100\n",
            "103/103 - 1s - 9ms/step - accuracy: 0.8360 - loss: 0.3957 - val_accuracy: 0.8585 - val_loss: 0.3872\n",
            "Epoch 4/100\n",
            "103/103 - 1s - 7ms/step - accuracy: 0.8360 - loss: 0.3862 - val_accuracy: 0.8512 - val_loss: 0.3726\n",
            "Epoch 5/100\n",
            "103/103 - 0s - 4ms/step - accuracy: 0.8390 - loss: 0.3782 - val_accuracy: 0.8488 - val_loss: 0.3596\n",
            "Epoch 6/100\n",
            "103/103 - 0s - 4ms/step - accuracy: 0.8445 - loss: 0.3683 - val_accuracy: 0.8780 - val_loss: 0.3447\n",
            "Epoch 7/100\n",
            "103/103 - 1s - 11ms/step - accuracy: 0.8463 - loss: 0.3581 - val_accuracy: 0.8707 - val_loss: 0.3498\n",
            "Epoch 8/100\n",
            "103/103 - 1s - 7ms/step - accuracy: 0.8494 - loss: 0.3564 - val_accuracy: 0.8780 - val_loss: 0.3430\n",
            "Epoch 9/100\n",
            "103/103 - 1s - 7ms/step - accuracy: 0.8500 - loss: 0.3558 - val_accuracy: 0.8732 - val_loss: 0.3313\n",
            "Epoch 10/100\n",
            "103/103 - 1s - 6ms/step - accuracy: 0.8555 - loss: 0.3464 - val_accuracy: 0.8756 - val_loss: 0.3280\n",
            "Epoch 11/100\n",
            "103/103 - 1s - 5ms/step - accuracy: 0.8634 - loss: 0.3383 - val_accuracy: 0.8634 - val_loss: 0.3314\n",
            "Epoch 12/100\n",
            "103/103 - 0s - 4ms/step - accuracy: 0.8683 - loss: 0.3316 - val_accuracy: 0.8951 - val_loss: 0.3127\n",
            "Epoch 13/100\n",
            "103/103 - 0s - 5ms/step - accuracy: 0.8701 - loss: 0.3296 - val_accuracy: 0.8878 - val_loss: 0.3062\n",
            "Epoch 14/100\n",
            "103/103 - 1s - 6ms/step - accuracy: 0.8671 - loss: 0.3284 - val_accuracy: 0.8805 - val_loss: 0.3171\n",
            "Epoch 15/100\n",
            "103/103 - 1s - 6ms/step - accuracy: 0.8750 - loss: 0.3124 - val_accuracy: 0.8902 - val_loss: 0.2930\n",
            "Epoch 16/100\n",
            "103/103 - 1s - 6ms/step - accuracy: 0.8732 - loss: 0.3180 - val_accuracy: 0.8976 - val_loss: 0.2960\n",
            "Epoch 17/100\n",
            "103/103 - 0s - 4ms/step - accuracy: 0.8835 - loss: 0.2996 - val_accuracy: 0.9073 - val_loss: 0.2824\n",
            "Epoch 18/100\n",
            "103/103 - 0s - 4ms/step - accuracy: 0.8854 - loss: 0.2994 - val_accuracy: 0.8829 - val_loss: 0.2885\n",
            "Epoch 19/100\n",
            "103/103 - 1s - 8ms/step - accuracy: 0.8817 - loss: 0.2970 - val_accuracy: 0.9024 - val_loss: 0.2754\n",
            "Epoch 20/100\n",
            "103/103 - 1s - 7ms/step - accuracy: 0.8921 - loss: 0.2836 - val_accuracy: 0.9000 - val_loss: 0.2682\n",
            "Epoch 21/100\n",
            "103/103 - 1s - 13ms/step - accuracy: 0.8933 - loss: 0.2767 - val_accuracy: 0.9000 - val_loss: 0.2699\n",
            "Epoch 22/100\n",
            "103/103 - 1s - 5ms/step - accuracy: 0.8921 - loss: 0.2746 - val_accuracy: 0.9122 - val_loss: 0.2572\n",
            "Epoch 23/100\n",
            "103/103 - 1s - 5ms/step - accuracy: 0.8957 - loss: 0.2678 - val_accuracy: 0.9024 - val_loss: 0.2621\n",
            "Epoch 24/100\n",
            "103/103 - 0s - 4ms/step - accuracy: 0.8988 - loss: 0.2581 - val_accuracy: 0.9195 - val_loss: 0.2406\n",
            "Epoch 25/100\n",
            "103/103 - 0s - 4ms/step - accuracy: 0.9073 - loss: 0.2515 - val_accuracy: 0.9146 - val_loss: 0.2288\n",
            "Epoch 26/100\n",
            "103/103 - 1s - 6ms/step - accuracy: 0.8994 - loss: 0.2556 - val_accuracy: 0.9171 - val_loss: 0.2347\n",
            "Epoch 27/100\n",
            "103/103 - 1s - 5ms/step - accuracy: 0.9018 - loss: 0.2474 - val_accuracy: 0.9098 - val_loss: 0.2534\n",
            "Epoch 28/100\n",
            "103/103 - 1s - 5ms/step - accuracy: 0.9085 - loss: 0.2337 - val_accuracy: 0.9171 - val_loss: 0.2427\n",
            "Epoch 29/100\n",
            "103/103 - 0s - 4ms/step - accuracy: 0.9128 - loss: 0.2292 - val_accuracy: 0.9146 - val_loss: 0.2389\n",
            "Epoch 30/100\n",
            "103/103 - 1s - 6ms/step - accuracy: 0.9110 - loss: 0.2312 - val_accuracy: 0.9195 - val_loss: 0.2249\n",
            "Epoch 31/100\n",
            "103/103 - 0s - 4ms/step - accuracy: 0.9189 - loss: 0.2153 - val_accuracy: 0.9122 - val_loss: 0.2361\n",
            "Epoch 32/100\n",
            "103/103 - 1s - 6ms/step - accuracy: 0.9140 - loss: 0.2198 - val_accuracy: 0.9268 - val_loss: 0.2125\n",
            "Epoch 33/100\n",
            "103/103 - 0s - 4ms/step - accuracy: 0.9195 - loss: 0.2058 - val_accuracy: 0.9146 - val_loss: 0.2299\n",
            "Epoch 34/100\n",
            "103/103 - 1s - 6ms/step - accuracy: 0.9220 - loss: 0.2040 - val_accuracy: 0.9268 - val_loss: 0.2138\n",
            "Epoch 35/100\n",
            "103/103 - 1s - 9ms/step - accuracy: 0.9274 - loss: 0.2009 - val_accuracy: 0.9146 - val_loss: 0.2218\n",
            "Epoch 36/100\n",
            "103/103 - 1s - 11ms/step - accuracy: 0.9189 - loss: 0.1989 - val_accuracy: 0.9317 - val_loss: 0.2007\n",
            "Epoch 37/100\n",
            "103/103 - 0s - 5ms/step - accuracy: 0.9317 - loss: 0.1827 - val_accuracy: 0.9244 - val_loss: 0.2092\n",
            "Epoch 38/100\n",
            "103/103 - 1s - 9ms/step - accuracy: 0.9274 - loss: 0.1935 - val_accuracy: 0.9293 - val_loss: 0.2113\n",
            "Epoch 39/100\n",
            "103/103 - 1s - 8ms/step - accuracy: 0.9299 - loss: 0.1851 - val_accuracy: 0.9293 - val_loss: 0.2303\n",
            "Epoch 40/100\n",
            "103/103 - 1s - 11ms/step - accuracy: 0.9287 - loss: 0.1843 - val_accuracy: 0.9317 - val_loss: 0.2053\n",
            "Epoch 41/100\n",
            "103/103 - 1s - 11ms/step - accuracy: 0.9250 - loss: 0.2015 - val_accuracy: 0.9341 - val_loss: 0.2059\n",
            "Epoch 42/100\n",
            "103/103 - 1s - 5ms/step - accuracy: 0.9250 - loss: 0.1837 - val_accuracy: 0.9341 - val_loss: 0.2127\n",
            "Epoch 43/100\n",
            "103/103 - 1s - 6ms/step - accuracy: 0.9311 - loss: 0.1779 - val_accuracy: 0.9195 - val_loss: 0.2214\n",
            "Epoch 44/100\n",
            "103/103 - 1s - 7ms/step - accuracy: 0.9280 - loss: 0.1825 - val_accuracy: 0.9268 - val_loss: 0.2069\n",
            "Epoch 45/100\n",
            "103/103 - 1s - 6ms/step - accuracy: 0.9329 - loss: 0.1774 - val_accuracy: 0.9341 - val_loss: 0.2153\n",
            "Epoch 46/100\n",
            "103/103 - 1s - 6ms/step - accuracy: 0.9366 - loss: 0.1632 - val_accuracy: 0.9341 - val_loss: 0.1973\n",
            "Epoch 47/100\n",
            "103/103 - 1s - 6ms/step - accuracy: 0.9274 - loss: 0.1750 - val_accuracy: 0.9341 - val_loss: 0.2010\n",
            "Epoch 48/100\n",
            "103/103 - 1s - 5ms/step - accuracy: 0.9384 - loss: 0.1709 - val_accuracy: 0.9366 - val_loss: 0.1986\n",
            "Epoch 49/100\n",
            "103/103 - 1s - 7ms/step - accuracy: 0.9427 - loss: 0.1614 - val_accuracy: 0.9293 - val_loss: 0.1963\n",
            "Epoch 50/100\n",
            "103/103 - 1s - 5ms/step - accuracy: 0.9415 - loss: 0.1557 - val_accuracy: 0.9293 - val_loss: 0.2111\n",
            "Epoch 51/100\n",
            "103/103 - 1s - 5ms/step - accuracy: 0.9421 - loss: 0.1546 - val_accuracy: 0.9415 - val_loss: 0.2057\n",
            "Epoch 52/100\n",
            "103/103 - 1s - 5ms/step - accuracy: 0.9402 - loss: 0.1669 - val_accuracy: 0.9244 - val_loss: 0.2284\n",
            "Epoch 53/100\n",
            "103/103 - 1s - 5ms/step - accuracy: 0.9445 - loss: 0.1430 - val_accuracy: 0.9244 - val_loss: 0.2146\n",
            "Epoch 54/100\n",
            "103/103 - 0s - 5ms/step - accuracy: 0.9439 - loss: 0.1517 - val_accuracy: 0.9341 - val_loss: 0.1923\n",
            "Epoch 55/100\n",
            "103/103 - 1s - 6ms/step - accuracy: 0.9457 - loss: 0.1442 - val_accuracy: 0.9341 - val_loss: 0.1945\n",
            "Epoch 56/100\n",
            "103/103 - 1s - 5ms/step - accuracy: 0.9457 - loss: 0.1385 - val_accuracy: 0.9512 - val_loss: 0.1860\n",
            "Epoch 57/100\n",
            "103/103 - 1s - 8ms/step - accuracy: 0.9512 - loss: 0.1413 - val_accuracy: 0.9317 - val_loss: 0.2060\n",
            "Epoch 58/100\n",
            "103/103 - 1s - 12ms/step - accuracy: 0.9488 - loss: 0.1333 - val_accuracy: 0.9439 - val_loss: 0.1820\n",
            "Epoch 59/100\n",
            "103/103 - 1s - 10ms/step - accuracy: 0.9543 - loss: 0.1342 - val_accuracy: 0.9098 - val_loss: 0.2450\n",
            "Epoch 60/100\n",
            "103/103 - 1s - 6ms/step - accuracy: 0.9457 - loss: 0.1310 - val_accuracy: 0.9390 - val_loss: 0.1927\n",
            "Epoch 61/100\n",
            "103/103 - 1s - 6ms/step - accuracy: 0.9463 - loss: 0.1385 - val_accuracy: 0.9390 - val_loss: 0.1764\n",
            "Epoch 62/100\n",
            "103/103 - 1s - 6ms/step - accuracy: 0.9494 - loss: 0.1436 - val_accuracy: 0.9439 - val_loss: 0.1861\n",
            "Epoch 63/100\n",
            "103/103 - 1s - 6ms/step - accuracy: 0.9476 - loss: 0.1407 - val_accuracy: 0.9537 - val_loss: 0.1576\n",
            "Epoch 64/100\n",
            "103/103 - 0s - 5ms/step - accuracy: 0.9585 - loss: 0.1222 - val_accuracy: 0.9341 - val_loss: 0.1959\n",
            "Epoch 65/100\n",
            "103/103 - 0s - 5ms/step - accuracy: 0.9549 - loss: 0.1190 - val_accuracy: 0.9561 - val_loss: 0.1553\n",
            "Epoch 66/100\n",
            "103/103 - 1s - 5ms/step - accuracy: 0.9585 - loss: 0.1187 - val_accuracy: 0.9512 - val_loss: 0.1785\n",
            "Epoch 67/100\n",
            "103/103 - 1s - 5ms/step - accuracy: 0.9524 - loss: 0.1211 - val_accuracy: 0.9463 - val_loss: 0.1956\n",
            "Epoch 68/100\n",
            "103/103 - 1s - 6ms/step - accuracy: 0.9549 - loss: 0.1407 - val_accuracy: 0.9488 - val_loss: 0.1596\n",
            "Epoch 69/100\n",
            "103/103 - 1s - 5ms/step - accuracy: 0.9561 - loss: 0.1214 - val_accuracy: 0.9488 - val_loss: 0.1789\n",
            "Epoch 70/100\n",
            "103/103 - 1s - 6ms/step - accuracy: 0.9610 - loss: 0.1154 - val_accuracy: 0.9366 - val_loss: 0.2201\n",
            "Epoch 71/100\n",
            "103/103 - 0s - 4ms/step - accuracy: 0.9573 - loss: 0.1142 - val_accuracy: 0.9561 - val_loss: 0.1809\n",
            "Epoch 72/100\n",
            "103/103 - 1s - 7ms/step - accuracy: 0.9567 - loss: 0.1219 - val_accuracy: 0.9415 - val_loss: 0.2023\n",
            "Epoch 73/100\n",
            "103/103 - 1s - 5ms/step - accuracy: 0.9537 - loss: 0.1382 - val_accuracy: 0.9341 - val_loss: 0.2144\n",
            "Epoch 74/100\n",
            "103/103 - 1s - 5ms/step - accuracy: 0.9543 - loss: 0.1225 - val_accuracy: 0.9537 - val_loss: 0.1547\n",
            "Epoch 75/100\n",
            "103/103 - 0s - 4ms/step - accuracy: 0.9585 - loss: 0.1109 - val_accuracy: 0.9512 - val_loss: 0.1874\n",
            "Epoch 76/100\n",
            "103/103 - 1s - 9ms/step - accuracy: 0.9640 - loss: 0.1063 - val_accuracy: 0.9537 - val_loss: 0.1915\n",
            "Epoch 77/100\n",
            "103/103 - 1s - 7ms/step - accuracy: 0.9689 - loss: 0.0967 - val_accuracy: 0.9488 - val_loss: 0.2167\n",
            "Epoch 78/100\n",
            "103/103 - 1s - 12ms/step - accuracy: 0.9628 - loss: 0.0993 - val_accuracy: 0.9390 - val_loss: 0.2284\n",
            "Epoch 79/100\n",
            "103/103 - 0s - 4ms/step - accuracy: 0.9628 - loss: 0.1047 - val_accuracy: 0.9585 - val_loss: 0.1836\n",
            "Epoch 80/100\n",
            "103/103 - 1s - 6ms/step - accuracy: 0.9628 - loss: 0.1085 - val_accuracy: 0.9512 - val_loss: 0.1707\n",
            "Epoch 81/100\n",
            "103/103 - 0s - 4ms/step - accuracy: 0.9579 - loss: 0.1186 - val_accuracy: 0.9463 - val_loss: 0.1542\n",
            "Epoch 82/100\n",
            "103/103 - 0s - 5ms/step - accuracy: 0.9616 - loss: 0.1032 - val_accuracy: 0.9512 - val_loss: 0.1904\n",
            "Epoch 83/100\n",
            "103/103 - 1s - 6ms/step - accuracy: 0.9640 - loss: 0.1034 - val_accuracy: 0.9561 - val_loss: 0.1742\n",
            "Epoch 84/100\n",
            "103/103 - 1s - 5ms/step - accuracy: 0.9567 - loss: 0.1106 - val_accuracy: 0.9439 - val_loss: 0.1987\n",
            "Epoch 85/100\n",
            "103/103 - 1s - 5ms/step - accuracy: 0.9634 - loss: 0.1024 - val_accuracy: 0.9463 - val_loss: 0.1972\n",
            "Epoch 86/100\n",
            "103/103 - 0s - 5ms/step - accuracy: 0.9622 - loss: 0.0994 - val_accuracy: 0.9585 - val_loss: 0.1738\n",
            "Epoch 87/100\n",
            "103/103 - 1s - 6ms/step - accuracy: 0.9634 - loss: 0.1050 - val_accuracy: 0.9512 - val_loss: 0.1825\n",
            "Epoch 88/100\n",
            "103/103 - 1s - 6ms/step - accuracy: 0.9646 - loss: 0.0887 - val_accuracy: 0.9512 - val_loss: 0.2011\n",
            "Epoch 89/100\n",
            "103/103 - 1s - 7ms/step - accuracy: 0.9659 - loss: 0.0943 - val_accuracy: 0.9488 - val_loss: 0.1792\n",
            "Epoch 90/100\n",
            "103/103 - 1s - 5ms/step - accuracy: 0.9665 - loss: 0.0992 - val_accuracy: 0.9512 - val_loss: 0.1871\n",
            "Epoch 91/100\n",
            "103/103 - 1s - 6ms/step - accuracy: 0.9671 - loss: 0.0942 - val_accuracy: 0.9463 - val_loss: 0.1991\n",
            "Epoch 92/100\n",
            "103/103 - 1s - 7ms/step - accuracy: 0.9665 - loss: 0.0961 - val_accuracy: 0.9390 - val_loss: 0.2497\n",
            "Epoch 93/100\n",
            "103/103 - 0s - 5ms/step - accuracy: 0.9683 - loss: 0.0901 - val_accuracy: 0.9585 - val_loss: 0.1917\n",
            "Epoch 94/100\n",
            "103/103 - 0s - 5ms/step - accuracy: 0.9628 - loss: 0.1076 - val_accuracy: 0.9415 - val_loss: 0.2271\n",
            "Epoch 95/100\n",
            "103/103 - 1s - 6ms/step - accuracy: 0.9665 - loss: 0.0904 - val_accuracy: 0.9537 - val_loss: 0.2046\n",
            "Epoch 96/100\n",
            "103/103 - 1s - 8ms/step - accuracy: 0.9634 - loss: 0.1002 - val_accuracy: 0.9537 - val_loss: 0.2135\n",
            "Epoch 97/100\n",
            "103/103 - 1s - 12ms/step - accuracy: 0.9616 - loss: 0.0925 - val_accuracy: 0.9585 - val_loss: 0.1811\n",
            "Epoch 98/100\n",
            "103/103 - 1s - 12ms/step - accuracy: 0.9640 - loss: 0.0934 - val_accuracy: 0.9537 - val_loss: 0.1998\n",
            "Epoch 99/100\n",
            "103/103 - 1s - 10ms/step - accuracy: 0.9640 - loss: 0.0935 - val_accuracy: 0.9537 - val_loss: 0.1818\n",
            "Epoch 100/100\n",
            "103/103 - 1s - 7ms/step - accuracy: 0.9695 - loss: 0.0902 - val_accuracy: 0.9512 - val_loss: 0.1940\n",
            "\u001b[1m13/13\u001b[0m \u001b[32m━━━━━━━━━━━━━━━━━━━━\u001b[0m\u001b[37m\u001b[0m \u001b[1m0s\u001b[0m 5ms/step - accuracy: 0.9508 - loss: 0.1939 \n",
            "Improved Test Accuracy: 0.9512\n"
          ]
        }
      ],
      "source": [
        "import tensorflow as tf\n",
        "from tensorflow.keras.models import Sequential\n",
        "from tensorflow.keras.layers import Dense, Dropout\n",
        "\n",
        "# Define an improved MLP model\n",
        "model = Sequential([\n",
        "    Dense(256, activation='relu', input_shape=(X_train_scaled.shape[1],)),\n",
        "    Dropout(0.2),  # Prevent overfitting\n",
        "    Dense(128, activation='relu'),\n",
        "    Dropout(0.2),\n",
        "    Dense(64, activation='relu'),\n",
        "    Dense(1, activation='sigmoid')  # Binary classification\n",
        "])\n",
        "\n",
        "# Compile the model\n",
        "model.compile(optimizer='adam', loss='binary_crossentropy', metrics=['accuracy'])\n",
        "\n",
        "# Train the model\n",
        "history = model.fit(X_train_scaled, y_train, validation_data=(X_test_scaled, y_test), epochs=100, batch_size=16, verbose=2)\n",
        "\n",
        "# Evaluate the model\n",
        "test_loss, test_acc = model.evaluate(X_test_scaled, y_test)\n",
        "print(f\"Improved Test Accuracy: {test_acc:.4f}\")\n"
      ]
    },
    {
      "cell_type": "code",
      "execution_count": null,
      "metadata": {},
      "outputs": [],
      "source": []
    }
  ],
  "metadata": {
    "colab": {
      "provenance": []
    },
    "kernelspec": {
      "display_name": "Python 3",
      "name": "python3"
    },
    "language_info": {
      "codemirror_mode": {
        "name": "ipython",
        "version": 3
      },
      "file_extension": ".py",
      "mimetype": "text/x-python",
      "name": "python",
      "nbconvert_exporter": "python",
      "pygments_lexer": "ipython3",
      "version": "3.12.4"
    }
  },
  "nbformat": 4,
  "nbformat_minor": 0
}
